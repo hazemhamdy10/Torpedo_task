{
 "cells": [
  {
   "cell_type": "code",
   "execution_count": 2,
   "metadata": {},
   "outputs": [],
   "source": [
    "import cv2\n",
    "import matplotlib.pyplot as plt \n",
    "\n",
    "def get_back(event, x, y, flags, param):\n",
    "    if event == cv2.EVENT_LBUTTONDOWN:\n",
    "        cv2.circle(im,(x,y),50,(0,0,255),10)\n",
    "        cv2.imshow(\"image\",im)\n",
    "    elif event==cv2.EVENT_RBUTTONDOWN : \n",
    "        cv2.rectangle(im,(x,y),(x+200,y+100),(255,0,0),10)\n",
    "        cv2.imshow(\"image\",im)\n",
    "        \n",
    "      \n",
    "\n",
    "\n",
    "im = cv2.imread(\"bunny.jpeg\")\n",
    "cv2.namedWindow(\"image\")\n",
    "cv2.setMouseCallback(\"image\", get_back)\n",
    "\n",
    "while True:\n",
    "    cv2.imshow(\"image\", im)\n",
    "    key = cv2.waitKey(0)\n",
    "    if key == 27:  \n",
    "        break\n",
    "\n",
    "cv2.destroyAllWindows()"
   ]
  },
  {
   "cell_type": "code",
   "execution_count": null,
   "metadata": {},
   "outputs": [],
   "source": []
  }
 ],
 "metadata": {
  "kernelspec": {
   "display_name": "Python 3",
   "language": "python",
   "name": "python3"
  },
  "language_info": {
   "codemirror_mode": {
    "name": "ipython",
    "version": 3
   },
   "file_extension": ".py",
   "mimetype": "text/x-python",
   "name": "python",
   "nbconvert_exporter": "python",
   "pygments_lexer": "ipython3",
   "version": "3.11.8"
  }
 },
 "nbformat": 4,
 "nbformat_minor": 2
}
